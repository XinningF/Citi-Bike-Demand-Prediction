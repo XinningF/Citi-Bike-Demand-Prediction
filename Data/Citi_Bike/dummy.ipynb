{
 "cells": [
  {
   "cell_type": "code",
   "execution_count": null,
   "id": "c51fed74",
   "metadata": {},
   "outputs": [],
   "source": [
    "# importing the required modules\n",
    "import glob\n",
    "import pandas as pd\n",
    "\n",
    "# specifying the path to csv files\n",
    "path = \"/Users/rui/Desktop/CITI\"\n",
    "\n",
    "# csv files in the path\n",
    "files = glob.glob(path + \"/*.csv\")\n",
    "\n",
    "data_frame = pd.DataFrame()\n",
    "content = []\n",
    "for filename in files:\n",
    "    # reading content of csv file\n",
    "    df = pd.read_csv(filename, sep=',')\n",
    "    df = df[['ride_id', 'rideable_type', 'started_at', 'ended_at',\n",
    "             'start_station_name', 'end_station_name', 'member_casual']].dropna(axis=0)\n",
    "    content.append(df)\n",
    "# converting content to data frame\n",
    "data_frame = pd.concat(content)\n",
    "\n",
    "# save as csv file\n",
    "data_frame.to_csv(path + \"/reduced_data.csv\")\n",
    "\n",
    "df = pd.read_csv(\"reduced_data\")\n",
    "df.head()"
   ]
  }
 ],
 "metadata": {
  "kernelspec": {
   "display_name": "Python 3 (ipykernel)",
   "language": "python",
   "name": "python3"
  },
  "language_info": {
   "codemirror_mode": {
    "name": "ipython",
    "version": 3
   },
   "file_extension": ".py",
   "mimetype": "text/x-python",
   "name": "python",
   "nbconvert_exporter": "python",
   "pygments_lexer": "ipython3",
   "version": "3.9.12"
  }
 },
 "nbformat": 4,
 "nbformat_minor": 5
}
